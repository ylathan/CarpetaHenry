{
  "nbformat": 4,
  "nbformat_minor": 0,
  "metadata": {
    "colab": {
      "provenance": [],
      "include_colab_link": true
    },
    "kernelspec": {
      "name": "python3",
      "display_name": "Python 3"
    },
    "language_info": {
      "name": "python"
    }
  },
  "cells": [
    {
      "cell_type": "markdown",
      "metadata": {
        "id": "view-in-github",
        "colab_type": "text"
      },
      "source": [
        "<a href=\"https://colab.research.google.com/github/ylathan/CarpetaHenry/blob/main/Class_linear_regresion.ipynb\" target=\"_parent\"><img src=\"https://colab.research.google.com/assets/colab-badge.svg\" alt=\"Open In Colab\"/></a>"
      ]
    },
    {
      "cell_type": "code",
      "execution_count": 9,
      "metadata": {
        "id": "qB-JY4LA1VHH"
      },
      "outputs": [],
      "source": [
        "import numpy as np\n",
        "import plotly.express as px\n",
        "import plotly.graph_objects as go\n",
        "from sklearn.datasets import load_boston\n",
        "import pandas as pd\n",
        "\n",
        "boston = load_boston()"
      ]
    },
    {
      "cell_type": "code",
      "source": [
        "print(boston.DESCR)"
      ],
      "metadata": {
        "colab": {
          "base_uri": "https://localhost:8080/"
        },
        "id": "v4gC_0QQ1ngM",
        "outputId": "57adf819-29a0-419b-9286-93c49ad90536"
      },
      "execution_count": 8,
      "outputs": [
        {
          "output_type": "stream",
          "name": "stdout",
          "text": [
            ".. _boston_dataset:\n",
            "\n",
            "Boston house prices dataset\n",
            "---------------------------\n",
            "\n",
            "**Data Set Characteristics:**  \n",
            "\n",
            "    :Number of Instances: 506 \n",
            "\n",
            "    :Number of Attributes: 13 numeric/categorical predictive. Median Value (attribute 14) is usually the target.\n",
            "\n",
            "    :Attribute Information (in order):\n",
            "        - CRIM     per capita crime rate by town\n",
            "        - ZN       proportion of residential land zoned for lots over 25,000 sq.ft.\n",
            "        - INDUS    proportion of non-retail business acres per town\n",
            "        - CHAS     Charles River dummy variable (= 1 if tract bounds river; 0 otherwise)\n",
            "        - NOX      nitric oxides concentration (parts per 10 million)\n",
            "        - RM       average number of rooms per dwelling\n",
            "        - AGE      proportion of owner-occupied units built prior to 1940\n",
            "        - DIS      weighted distances to five Boston employment centres\n",
            "        - RAD      index of accessibility to radial highways\n",
            "        - TAX      full-value property-tax rate per $10,000\n",
            "        - PTRATIO  pupil-teacher ratio by town\n",
            "        - B        1000(Bk - 0.63)^2 where Bk is the proportion of black people by town\n",
            "        - LSTAT    % lower status of the population\n",
            "        - MEDV     Median value of owner-occupied homes in $1000's\n",
            "\n",
            "    :Missing Attribute Values: None\n",
            "\n",
            "    :Creator: Harrison, D. and Rubinfeld, D.L.\n",
            "\n",
            "This is a copy of UCI ML housing dataset.\n",
            "https://archive.ics.uci.edu/ml/machine-learning-databases/housing/\n",
            "\n",
            "\n",
            "This dataset was taken from the StatLib library which is maintained at Carnegie Mellon University.\n",
            "\n",
            "The Boston house-price data of Harrison, D. and Rubinfeld, D.L. 'Hedonic\n",
            "prices and the demand for clean air', J. Environ. Economics & Management,\n",
            "vol.5, 81-102, 1978.   Used in Belsley, Kuh & Welsch, 'Regression diagnostics\n",
            "...', Wiley, 1980.   N.B. Various transformations are used in the table on\n",
            "pages 244-261 of the latter.\n",
            "\n",
            "The Boston house-price data has been used in many machine learning papers that address regression\n",
            "problems.   \n",
            "     \n",
            ".. topic:: References\n",
            "\n",
            "   - Belsley, Kuh & Welsch, 'Regression diagnostics: Identifying Influential Data and Sources of Collinearity', Wiley, 1980. 244-261.\n",
            "   - Quinlan,R. (1993). Combining Instance-Based and Model-Based Learning. In Proceedings on the Tenth International Conference of Machine Learning, 236-243, University of Massachusetts, Amherst. Morgan Kaufmann.\n",
            "\n"
          ]
        }
      ]
    },
    {
      "cell_type": "code",
      "source": [
        "boston.data.shape"
      ],
      "metadata": {
        "colab": {
          "base_uri": "https://localhost:8080/"
        },
        "id": "5sdX72o-2GZK",
        "outputId": "eaaae989-ed0f-4e4e-dd54-27a284921666"
      },
      "execution_count": 4,
      "outputs": [
        {
          "output_type": "execute_result",
          "data": {
            "text/plain": [
              "(506, 13)"
            ]
          },
          "metadata": {},
          "execution_count": 4
        }
      ]
    },
    {
      "cell_type": "markdown",
      "source": [
        "##**Regresión Lineal Simple Con Ecuación Normal**"
      ],
      "metadata": {
        "id": "7vujhr9S2RNY"
      }
    },
    {
      "cell_type": "code",
      "source": [
        "\"\"\" Obtener la característica deseada \"\"\"\n",
        "data = boston.data[:,5][..., np.newaxis]\n",
        "print(f\"Tamaño de datos: {data.shape}\")\n",
        "\n",
        "\"\"\" Obtener las etiquetas \"\"\" \n",
        "target = boston.target\n",
        "target = target[...,np.newaxis]\n",
        "print(f\"Tamaño de etiquetas: {target.shape}\")"
      ],
      "metadata": {
        "colab": {
          "base_uri": "https://localhost:8080/"
        },
        "id": "nqk4o3D_1rJj",
        "outputId": "c0cf682c-3425-425a-c953-7ab61704ae14"
      },
      "execution_count": 7,
      "outputs": [
        {
          "output_type": "stream",
          "name": "stdout",
          "text": [
            "Tamaño de datos: (506, 1)\n",
            "Tamaño de etiquetas: (506, 1)\n"
          ]
        }
      ]
    },
    {
      "cell_type": "code",
      "source": [
        "\"\"\" Imprimir muestras de datos y etiquetas \"\"\"\n",
        "print(f\"Etiquetas: {target[:10,0]}\")#Los 1ros 10 terminos de la columna 0\n",
        "print(f\"Datos: {data[:10,0]}\")"
      ],
      "metadata": {
        "colab": {
          "base_uri": "https://localhost:8080/"
        },
        "id": "U1iUuFzH2mFq",
        "outputId": "f938e5a6-e6be-4910-f03b-96daa0a7cee7"
      },
      "execution_count": 10,
      "outputs": [
        {
          "output_type": "stream",
          "name": "stdout",
          "text": [
            "Etiquetas: [24.  21.6 34.7 33.4 36.2 28.7 22.9 27.1 16.5 18.9]\n",
            "Datos: [6.575 6.421 7.185 6.998 7.147 6.43  6.012 6.172 5.631 6.004]\n"
          ]
        }
      ]
    },
    {
      "cell_type": "code",
      "source": [
        "import matplotlib.pyplot as plt\n",
        "\n",
        "plt.scatter(data, target, alpha=0.3)\n",
        "plt.title('Distribución de datos')\n",
        "plt.xlabel('Promedio de número de habitaciones')\n",
        "plt.ylabel('Valor medio de las viviendas en miles de dólares')\n",
        "plt.show()"
      ],
      "metadata": {
        "colab": {
          "base_uri": "https://localhost:8080/",
          "height": 295
        },
        "id": "lXWUsbaM3O8x",
        "outputId": "b4fddc6e-97d0-4b01-9b08-1f089d347383"
      },
      "execution_count": 20,
      "outputs": [
        {
          "output_type": "display_data",
          "data": {
            "text/plain": [
              "<Figure size 432x288 with 1 Axes>"
            ],
            "image/png": "[encoded data removed]"
          },
          "metadata": {
            "needs_background": "light"
          }
        }
      ]
    },
    {
      "cell_type": "code",
      "source": [
        "X= data.copy()#toda modificacion de X tambien aplica a data\n",
        "Y= target.copy()\n",
        "print(X.shape,Y.shape) #para mostrar como quedaron\n"
      ],
      "metadata": {
        "colab": {
          "base_uri": "https://localhost:8080/"
        },
        "id": "I94XRJuhfmRQ",
        "outputId": "2dd9acb8-94ac-4745-d92f-9ee95961c93a"
      },
      "execution_count": 21,
      "outputs": [
        {
          "output_type": "stream",
          "name": "stdout",
          "text": [
            "(506, 1) (506, 1)\n"
          ]
        }
      ]
    },
    {
      "cell_type": "markdown",
      "source": [
        "Formula para minimizar el error: $w = (X^{T}X)^{-1}X^{T}Y$"
      ],
      "metadata": {
        "id": "J2rEicnI4rVP"
      }
    },
    {
      "cell_type": "code",
      "source": [
        "X = np.concatenate((np.ones(X.shape),X), axis= 1 )#esto se hace porque el INTERCEPTO se tiene que multiplicar por 1.y el AXIS es para que me genere otra COLUMNA\n",
        "#X = np.concatenate(np.ones(506,1)),X))\n",
        "#X = np.concatenate(np.ones((X.shape[0], X.shape[1])),X))# el 0 pra las filas y el 1 para las columnas\n"
      ],
      "metadata": {
        "id": "DexubOCNhrHi"
      },
      "execution_count": 22,
      "outputs": []
    },
    {
      "cell_type": "code",
      "source": [
        "X.shape #aqui puedo ver que tengo 506 datos y 2 columnas"
      ],
      "metadata": {
        "colab": {
          "base_uri": "https://localhost:8080/"
        },
        "id": "fkuTpsQemeFK",
        "outputId": "ff5b16a0-97c5-437c-80b0-213f9ca1d1b8"
      },
      "execution_count": 23,
      "outputs": [
        {
          "output_type": "execute_result",
          "data": {
            "text/plain": [
              "(506, 2)"
            ]
          },
          "metadata": {},
          "execution_count": 23
        }
      ]
    },
    {
      "cell_type": "markdown",
      "source": [
        "el profesor define\n",
        "x= data.copy()#para que toda modificacion que usted le haga a X tambien se la haga a data\n",
        "y= target.copy()\n",
        "print(x.shape, y.shape)#para mirar que se halla copiado correctamente\n"
      ],
      "metadata": {
        "id": "LY0zQdZVetGT"
      }
    },
    {
      "cell_type": "code",
      "source": [],
      "metadata": {
        "id": "YzQMlzsKnBn0"
      },
      "execution_count": 11,
      "outputs": []
    },
    {
      "cell_type": "markdown",
      "source": [
        "## **Regresión lineal con ecuación no vectorizada**"
      ],
      "metadata": {
        "id": "SmwyrQYNe37d"
      }
    },
    {
      "cell_type": "markdown",
      "source": [
        "$W_1 = \\frac{(\\sum x_i^{2}) * \\sum y_i - (\\sum x_i) * (\\sum x_iy_i))} {n * (\\sum x_i^2) - (\\sum x_i)^2}$\n",
        "\n",
        "$W_0 = \\frac{n (\\sum x_i y_i) - (\\sum x_i)(\\sum y_i)} {n * (\\sum x_i^2) - (\\sum x_i)^2}$"
      ],
      "metadata": {
        "id": "JKVZU-eQdUc5"
      }
    },
    {
      "cell_type": "code",
      "source": [],
      "metadata": {
        "id": "qUjQMtCNnKxp"
      },
      "execution_count": 11,
      "outputs": []
    },
    {
      "cell_type": "markdown",
      "source": [
        "##**Regresión Lineal Con Sklearn**"
      ],
      "metadata": {
        "id": "4ktJP6-kBRdm"
      }
    },
    {
      "cell_type": "code",
      "source": [
        "from sklearn.linear_model import LinearRegression\n",
        "reg_model = LinearRegression().fit(data, target)\n",
        "print(\"W1:\" , reg_model.coef_)\n",
        "print(\"W0: \", reg_model.intercept_)"
      ],
      "metadata": {
        "colab": {
          "base_uri": "https://localhost:8080/"
        },
        "id": "s42WE-ao6pky",
        "outputId": "2e1bd486-fe83-4f31-a82e-f08400047793"
      },
      "execution_count": null,
      "outputs": [
        {
          "output_type": "stream",
          "name": "stdout",
          "text": [
            "W1: [[9.10210898]]\n",
            "W0:  [-34.67062078]\n"
          ]
        }
      ]
    },
    {
      "cell_type": "code",
      "source": [
        "\"\"\" Obtener la característica deseada \"\"\"\n",
        "data = boston.data[:,5:7]\n",
        "print(f\"Tamaño de datos: {data.shape}\")\n",
        "\n",
        "\"\"\" Obtener las etiquetas \"\"\" \n",
        "target = boston.target\n",
        "target = target[...,np.newaxis]\n",
        "print(f\"Tamaño de etiquetas: {target.shape}\")"
      ],
      "metadata": {
        "colab": {
          "base_uri": "https://localhost:8080/"
        },
        "id": "hgW2tTXfBrfV",
        "outputId": "106b4be1-cbba-48b1-83b6-eef0f21c260c"
      },
      "execution_count": null,
      "outputs": [
        {
          "output_type": "stream",
          "name": "stdout",
          "text": [
            "Tamaño de datos: (506, 2)\n",
            "Tamaño de etiquetas: (506, 1)\n"
          ]
        }
      ]
    },
    {
      "cell_type": "code",
      "source": [
        "X = np.concatenate((data, np.ones((506,1))), axis=-1)\n",
        "Y = target.copy()\n",
        "print(f\"Tamaño de datos: {X.shape}\")"
      ],
      "metadata": {
        "colab": {
          "base_uri": "https://localhost:8080/"
        },
        "id": "S6AxCRwSCRqa",
        "outputId": "69b7ad2e-5008-4193-f2bc-464f761b2ffa"
      },
      "execution_count": null,
      "outputs": [
        {
          "output_type": "stream",
          "name": "stdout",
          "text": [
            "Tamaño de datos: (506, 3)\n"
          ]
        }
      ]
    },
    {
      "cell_type": "code",
      "source": [
        "W = np.linalg.inv(X.T@X) @ (X.T@Y)\n",
        "print(W.T)"
      ],
      "metadata": {
        "colab": {
          "base_uri": "https://localhost:8080/"
        },
        "id": "bN-eE3sECsrA",
        "outputId": "60903bcb-ebe9-4e83-f7e8-7643f112f2ad"
      },
      "execution_count": null,
      "outputs": [
        {
          "output_type": "stream",
          "name": "stdout",
          "text": [
            "[[  8.40158122  -0.07277679 -25.27739905]]\n"
          ]
        }
      ]
    },
    {
      "cell_type": "code",
      "source": [
        "reg_model = LinearRegression().fit(data, target)\n",
        "print(\"W1:\" , reg_model.coef_)\n",
        "print(\"W0: \", reg_model.intercept_)"
      ],
      "metadata": {
        "colab": {
          "base_uri": "https://localhost:8080/"
        },
        "id": "dGAvf1m0CvI5",
        "outputId": "d8fad0f1-89f8-432c-894e-dd3fa2646ac8"
      },
      "execution_count": null,
      "outputs": [
        {
          "output_type": "stream",
          "name": "stdout",
          "text": [
            "W1: [[ 8.40158122 -0.07277679]]\n",
            "W0:  [-25.27739905]\n"
          ]
        }
      ]
    },
    {
      "cell_type": "code",
      "source": [
        "import pandas as pd\n",
        "name_cols = [\"Promedio_Numero_Habitaciones\", \"Distancia_Casa_Centro_Empleo\", \"Precio en Dolares\"]\n",
        "df = pd.DataFrame(np.concatenate([data,target],1), columns=name_cols)\n",
        "print(df)"
      ],
      "metadata": {
        "colab": {
          "base_uri": "https://localhost:8080/"
        },
        "id": "DZ8wWq4ECy3l",
        "outputId": "f2b9ba27-3ade-4094-c2f8-da6b80593038"
      },
      "execution_count": null,
      "outputs": [
        {
          "output_type": "stream",
          "name": "stdout",
          "text": [
            "     Promedio_Numero_Habitaciones  Distancia_Casa_Centro_Empleo  \\\n",
            "0                           6.575                          65.2   \n",
            "1                           6.421                          78.9   \n",
            "2                           7.185                          61.1   \n",
            "3                           6.998                          45.8   \n",
            "4                           7.147                          54.2   \n",
            "..                            ...                           ...   \n",
            "501                         6.593                          69.1   \n",
            "502                         6.120                          76.7   \n",
            "503                         6.976                          91.0   \n",
            "504                         6.794                          89.3   \n",
            "505                         6.030                          80.8   \n",
            "\n",
            "     Precio en Dolares  \n",
            "0                 24.0  \n",
            "1                 21.6  \n",
            "2                 34.7  \n",
            "3                 33.4  \n",
            "4                 36.2  \n",
            "..                 ...  \n",
            "501               22.4  \n",
            "502               20.6  \n",
            "503               23.9  \n",
            "504               22.0  \n",
            "505               11.9  \n",
            "\n",
            "[506 rows x 3 columns]\n"
          ]
        }
      ]
    },
    {
      "cell_type": "code",
      "source": [
        "X = df[['Promedio_Numero_Habitaciones', 'Distancia_Casa_Centro_Empleo']].to_numpy()\n",
        "y = df['Precio en Dolares'].to_numpy()"
      ],
      "metadata": {
        "id": "8Ze97SvJDOhn"
      },
      "execution_count": null,
      "outputs": []
    },
    {
      "cell_type": "code",
      "source": [
        "# Create a mesh grid on which we will run our model\n",
        "x_min, x_max = X[0].min(), X[0].max()\n",
        "y_min, y_max = X[1].min(), X[1].max()\n",
        "xrange = np.arange(x_min, x_max, 0.02)\n",
        "yrange = np.arange(y_min, y_max, 0.02)\n",
        "xx, yy = np.meshgrid(xrange, yrange)\n",
        "\n",
        "# Run model\n",
        "pred = reg_model.predict(np.c_[xx.ravel(), yy.ravel()])\n",
        "pred = pred.reshape(xx.shape)\n",
        "\n",
        "# Generate the plot\n",
        "fig = px.scatter_3d(df, x='Promedio_Numero_Habitaciones', y='Distancia_Casa_Centro_Empleo', z='Precio en Dolares')\n",
        "fig.update_traces(marker=dict(size=5))\n",
        "fig.add_traces(go.Surface(x=xrange, y=yrange, z=pred, name='pred_surface', opacity=0.6))\n",
        "fig.show()"
      ],
      "metadata": {
        "id": "F7x4XIFZDya5"
      },
      "execution_count": null,
      "outputs": []
    }
  ]
}